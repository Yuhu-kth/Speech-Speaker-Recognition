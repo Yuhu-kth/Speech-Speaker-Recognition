{
 "cells": [
  {
   "cell_type": "code",
   "execution_count": 5,
   "metadata": {},
   "outputs": [],
   "source": [
    "import numpy as np\n",
    "from lab3_proto import *\n",
    "from lab3_tools import *\n",
    "import sys  \n",
    "sys.path.append('/home/tmh/Documents/yhu/speech/Speech-Speaker-Recognition/lab1')\n",
    "from lab1_proto import *\n",
    "sys.path.append('/home/tmh/Documents/yhu/speech/Speech-Speaker-Recognition/lab2')\n",
    "from lab2_tools import *\n",
    "from lab2_proto import *\n",
    "from prondict import *"
   ]
  },
  {
   "cell_type": "code",
   "execution_count": 4,
   "metadata": {},
   "outputs": [
    {
     "data": {
      "text/plain": "('man', 'ae', '1', 'a')"
     },
     "execution_count": 4,
     "metadata": {},
     "output_type": "execute_result"
    }
   ],
   "source": [
    "path2info('tidigits/disc_4.1.1/tidigits/train/man/ae/1a.wav')"
   ]
  },
  {
   "cell_type": "code",
   "execution_count": 5,
   "metadata": {},
   "outputs": [
    {
     "data": {
      "text/plain": "(array([11, 13, 11, ...,  9,  9,  9], dtype=int16), 20000)"
     },
     "execution_count": 5,
     "metadata": {},
     "output_type": "execute_result"
    }
   ],
   "source": [
    "loadAudio('tidigits/disc_4.1.1/tidigits/train/man/ae/z9z6531a.wav')"
   ]
  },
  {
   "cell_type": "markdown",
   "metadata": {},
   "source": [
    "## Target Class Definition"
   ]
  },
  {
   "cell_type": "code",
   "execution_count": 10,
   "metadata": {},
   "outputs": [
    {
     "data": {
      "text/plain": "['ah_0',\n 'ah_1',\n 'ah_2',\n 'ao_0',\n 'ao_1',\n 'ao_2',\n 'ay_0',\n 'ay_1',\n 'ay_2',\n 'eh_0',\n 'eh_1',\n 'eh_2',\n 'ey_0',\n 'ey_1',\n 'ey_2',\n 'f_0',\n 'f_1',\n 'f_2',\n 'ih_0',\n 'ih_1',\n 'ih_2',\n 'iy_0',\n 'iy_1',\n 'iy_2',\n 'k_0',\n 'k_1',\n 'k_2',\n 'n_0',\n 'n_1',\n 'n_2',\n 'ow_0',\n 'ow_1',\n 'ow_2',\n 'r_0',\n 'r_1',\n 'r_2',\n 's_0',\n 's_1',\n 's_2',\n 'sil_0',\n 'sil_1',\n 'sil_2',\n 'sp_0',\n 't_0',\n 't_1',\n 't_2',\n 'th_0',\n 'th_1',\n 'th_2',\n 'uw_0',\n 'uw_1',\n 'uw_2',\n 'v_0',\n 'v_1',\n 'v_2',\n 'w_0',\n 'w_1',\n 'w_2',\n 'z_0',\n 'z_1',\n 'z_2']"
     },
     "execution_count": 10,
     "metadata": {},
     "output_type": "execute_result"
    }
   ],
   "source": [
    "statelist = []\n",
    "phoneHMMs = np.load('/home/tmh/Documents/yhu/speech/Speech-Speaker-Recognition/lab2/lab2_models_all.npz',allow_pickle=True)['phoneHMMs'].item()\n",
    "phones = sorted(phoneHMMs.keys())\n",
    "nstates = {phone:phoneHMMs[phone]['means'].shape[0] for phone in phones}\n",
    "stateList = [ph + '_' +str(id) for ph in phones for id in range(nstates[ph])]\n",
    "statelist = stateList \n",
    "stateList"
   ]
  },
  {
   "cell_type": "code",
   "execution_count": 8,
   "metadata": {},
   "outputs": [
    {
     "data": {
      "text/plain": "8"
     },
     "execution_count": 8,
     "metadata": {},
     "output_type": "execute_result"
    }
   ],
   "source": [
    "stateList.index('ay_2')"
   ]
  },
  {
   "cell_type": "markdown",
   "metadata": {},
   "source": [
    "## Forced Alignment"
   ]
  },
  {
   "cell_type": "code",
   "execution_count": 22,
   "metadata": {},
   "outputs": [
    {
     "name": "stdout",
     "output_type": "stream",
     "text": "(178, 13)\n"
    }
   ],
   "source": [
    "filename ='tidigits/disc_4.1.1/tidigits/train/man/nw/z43a.wav'\n",
    "samples, samplingrate = loadAudio(filename)\n",
    "lmcc = mfcc(samples)\n",
    "print(lmcc.shape)"
   ]
  },
  {
   "cell_type": "code",
   "execution_count": 3,
   "metadata": {},
   "outputs": [
    {
     "data": {
      "text/plain": "['z', '4', '3']"
     },
     "execution_count": 3,
     "metadata": {},
     "output_type": "execute_result"
    }
   ],
   "source": [
    "wordTrans = list(path2info(filename)[2])\n",
    "wordTrans"
   ]
  },
  {
   "cell_type": "code",
   "execution_count": 4,
   "metadata": {},
   "outputs": [
    {
     "data": {
      "text/plain": "['sil',\n 'z',\n 'iy',\n 'r',\n 'ow',\n 'sp',\n 'f',\n 'ao',\n 'r',\n 'sp',\n 'th',\n 'r',\n 'iy',\n 'sp',\n 'sil']"
     },
     "execution_count": 4,
     "metadata": {},
     "output_type": "execute_result"
    }
   ],
   "source": [
    "phoneTrans = words2phones(wordTrans,prondict)\n",
    "phoneTrans"
   ]
  },
  {
   "cell_type": "code",
   "execution_count": 15,
   "metadata": {},
   "outputs": [],
   "source": [
    "utteranceHMM = concatHMMs(phoneHMMs,phoneTrans)\n",
    "#utteranceHMM "
   ]
  },
  {
   "cell_type": "code",
   "execution_count": 11,
   "metadata": {},
   "outputs": [],
   "source": [
    "stateTrans = [phone + '_' + str(stateid) for phone in phoneTrans\n",
    "                for stateid in range(nstates[phone])]"
   ]
  },
  {
   "cell_type": "code",
   "execution_count": 19,
   "metadata": {},
   "outputs": [
    {
     "name": "stdout",
     "output_type": "stream",
     "text": "['sil_0', 'sil_1', 'sil_2', 'z_0', 'z_1', 'z_2', 'iy_0', 'iy_1', 'iy_2', 'r_0', 'r_1', 'r_2', 'ow_0', 'ow_1', 'ow_2', 'sp_0', 'f_0', 'f_1', 'f_2', 'ao_0', 'ao_1', 'ao_2', 'r_0', 'r_1', 'r_2', 'sp_0', 'th_0', 'th_1', 'th_2', 'r_0', 'r_1', 'r_2', 'iy_0', 'iy_1', 'iy_2', 'sp_0', 'sil_0', 'sil_1', 'sil_2']\n"
    }
   ],
   "source": [
    "print(stateTrans)"
   ]
  },
  {
   "cell_type": "markdown",
   "metadata": {},
   "source": [
    "## Align "
   ]
  },
  {
   "cell_type": "code",
   "execution_count": null,
   "metadata": {},
   "outputs": [],
   "source": []
  }
 ],
 "metadata": {
  "language_info": {
   "name": "python",
   "codemirror_mode": {
    "name": "ipython",
    "version": 3
   },
   "version": "3.7.3-final"
  },
  "orig_nbformat": 2,
  "file_extension": ".py",
  "mimetype": "text/x-python",
  "name": "python",
  "npconvert_exporter": "python",
  "pygments_lexer": "ipython3",
  "version": 3,
  "kernelspec": {
   "name": "python37364bitbasecondab3ef340a53a04099a004e52d40c149da",
   "display_name": "Python 3.7.3 64-bit ('base': conda)"
  }
 },
 "nbformat": 4,
 "nbformat_minor": 2
}