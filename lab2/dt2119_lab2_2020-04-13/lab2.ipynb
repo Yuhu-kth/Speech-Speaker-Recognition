{
 "cells": [
  {
   "cell_type": "code",
   "execution_count": 1,
   "metadata": {},
   "outputs": [],
   "source": [
    "import numpy as np\n",
    "from lab2_tools import *\n",
    "from lab2_proto import *\n",
    "from tqdm import trange"
   ]
  },
  {
   "cell_type": "code",
   "execution_count": 2,
   "metadata": {},
   "outputs": [
    {
     "output_type": "stream",
     "name": "stdout",
     "text": "data of length:44\ndict_keys(['filename', 'samplingrate', 'gender', 'speaker', 'digit', 'repetition', 'samples', 'lmfcc'])\n============\nphoneme HMM models:\n['ah', 'ao', 'ay', 'eh', 'ey', 'f', 'ih', 'iy', 'k', 'n', 'ow', 'r', 's', 'sil', 'sp', 't', 'th', 'uw', 'v', 'w', 'z']\ndict_keys(['name', 'startprob', 'transmat', 'means', 'covars'])\n"
    }
   ],
   "source": [
    "example = np.load('lab2_example.npz',allow_pickle=True)['example'].item()\n",
    "samplingrate_ex = example['samplingrate']\n",
    "gender_ex = example['gender']\n",
    "speaker_ex = example['speaker']\n",
    "digit_ex = example['digit']\n",
    "repetition_ex = example['repetition']\n",
    "samples_ex = example['samples']\n",
    "lmfcc_ex = example['lmfcc']\n",
    "\n",
    "obsloglik_ex = example['obsloglik']\n",
    "logalpha_ex = example['logalpha']\n",
    "loglik_ex = example['loglik']\n",
    "vloglik_ex = example['vloglik']\n",
    "vpath_ex = example['vpath']\n",
    "logbeta_ex = example['logbeta']\n",
    "loggamma_ex = example['loggamma']\n",
    "\n",
    "# Load all data(44 uterances z-10 2male and 2female)\n",
    "data = np.load('lab2_data.npz',allow_pickle=True)['data']\n",
    "print(\"data of length:\",len(data) )\n",
    "print(data[1].keys())\n",
    "print(\"============\")\n",
    "\n",
    "# Load parameters\n",
    "phoneHMMs_all = np.load('lab2_models_all.npz',allow_pickle=True)['phoneHMMs'].item()\n",
    "phoneHMMs_one = np.load('lab2_models_onespkr.npz',allow_pickle=True)['phoneHMMs'].item()\n",
    "print(\"phoneme HMM models:\")\n",
    "print(list(sorted(phoneHMMs_one.keys())))\n",
    "print(phoneHMMs_one['sp'].keys())\n"
   ]
  },
  {
   "cell_type": "code",
   "execution_count": 4,
   "metadata": {},
   "outputs": [
    {
     "output_type": "stream",
     "name": "stdout",
     "text": "A:\n[[0.6829823 0.3170177 0.        0.       ]\n [0.        0.6620713 0.3379287 0.       ]\n [0.        0.        0.8005023 0.1994978]\n [0.        0.        0.        1.       ]]\nA:\n[[0.8853924 0.1146077 0.        0.       ]\n [0.        0.7501141 0.2498859 0.       ]\n [0.        0.        0.8315453 0.1684547]\n [0.        0.        0.        1.       ]]\nPi:\n[1. 0. 0. 0.]\nPi:\n[1. 0. 0. 0.]\n\n==========================================================\n==========================================================\n\nA:\n[[0.6829823 0.3170177 0.        0.        0.        0.        0.       ]\n [0.        0.6620713 0.3379287 0.        0.        0.        0.       ]\n [0.        0.        0.8005023 0.1994978 0.        0.        0.       ]\n [0.        0.        0.        0.8853924 0.1146077 0.        0.       ]\n [0.        0.        0.        0.        0.7501141 0.2498859 0.       ]\n [0.        0.        0.        0.        0.        0.8315453 0.1684547]\n [0.        0.        0.        0.        0.        0.        1.       ]]\nPi:\n[1. 0. 0. 0. 0. 0. 0.]\n"
    }
   ],
   "source": [
    "hmm1 = phoneHMMs_one['ah']\n",
    "hmm2 = phoneHMMs_one['ao']\n",
    "print(\"A:\")\n",
    "print(hmm1['transmat'])\n",
    "print(\"A:\")\n",
    "print(hmm2['transmat'])\n",
    "print(\"Pi:\")\n",
    "print(hmm1['startprob'])\n",
    "print(\"Pi:\")\n",
    "print(hmm2['startprob'])\n",
    "print(\"\\n==========================================================\")\n",
    "print(\"==========================================================\\n\")\n",
    "twoHMms=concatTwoHMMs(hmm1, hmm2)\n",
    "print(\"A:\")\n",
    "print(twoHMms['transmat'])\n",
    "print(\"Pi:\")\n",
    "print(twoHMms['startprob'])\n"
   ]
  }
 ],
 "metadata": {
  "language_info": {
   "codemirror_mode": {
    "name": "ipython",
    "version": 3
   },
   "file_extension": ".py",
   "mimetype": "text/x-python",
   "name": "python",
   "nbconvert_exporter": "python",
   "pygments_lexer": "ipython3",
   "version": "3.6.7-candidate"
  },
  "orig_nbformat": 2,
  "kernelspec": {
   "name": "python36764bit398bcfbe1bb14699b123d7f38580cbe2",
   "display_name": "Python 3.6.7 64-bit"
  }
 },
 "nbformat": 4,
 "nbformat_minor": 2
}